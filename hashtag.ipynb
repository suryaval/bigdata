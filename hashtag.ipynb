{
 "cells": [
  {
   "cell_type": "code",
   "execution_count": 1,
   "metadata": {
    "collapsed": false
   },
   "outputs": [
    {
     "name": "stdout",
     "output_type": "stream",
     "text": [
      "Starting download from https://github.com/ibm-cds-labs/spark.samples/raw/master/dist/streaming-twitter-assembly-1.2.jar\n",
      "Finished download of streaming-twitter-assembly-1.2.jar\n"
     ]
    }
   ],
   "source": [
    "%AddJar https://github.com/ibm-cds-labs/spark.samples/raw/master/dist/streaming-twitter-assembly-1.2.jar -f"
   ]
  },
  {
   "cell_type": "code",
   "execution_count": 2,
   "metadata": {
    "collapsed": true
   },
   "outputs": [],
   "source": [
    "val demo = com.ibm.cds.spark.samples.StreamingTwitter //Shorter handle\n",
    "    //Twitter OAuth params from section above\n",
 csci-680k
    "    demo.setConfig(\"twitter4j.oauth.consumerKey\",\"NeocjdVX9Pd2UHI62D79gh9zx\")\n",
    "    demo.setConfig(\"twitter4j.oauth.consumerSecret\",\"XvsxtWB92ml1ICkrItdOiLPIcv0xRoE2e2zHdGDNGOsEJpRUm3\")\n",
    "    demo.setConfig(\"twitter4j.oauth.accessToken\",\"155653742-iAMlsyusqtt5Uks6MfGNkFmevHnF85Qvo9s7Ttxi\")\n",
    "    demo.setConfig(\"twitter4j.oauth.accessTokenSecret\",\"kTV4cfnMzOQgR9WN44scKWxdVPS56RPOe3mgcKmoKzezQ\")\n",
    "    //Tone Analyzer service credential copied from section above\n",
    "    demo.setConfig(\"watson.tone.url\",\"https://gateway.watsonplatform.net/tone-analyzer-beta/api\")\n",
    "    demo.setConfig(\"watson.tone.password\",\"Aio8eVtSqXXV\")\n",
    "    demo.setConfig(\"watson.tone.username\",\"091cad05-a27e-4294-8ebb-f98f8df966dd\")"

    "    demo.setConfig(\"twitter4j.oauth.consumerKey\",\"consumerkey\")\n",
    "    demo.setConfig(\"twitter4j.oauth.consumerSecret\",\"secretkey\")\n",
    "    demo.setConfig(\"twitter4j.oauth.accessToken\",\"yourtoken\")\n",
    "    demo.setConfig(\"twitter4j.oauth.accessTokenSecret\",\"yourtoken\")\n",
    "    //Tone Analyzer service credential \n",
    "    demo.setConfig(\"watson.tone.url\",\"https://gateway.watsonplatform.net/tone-analyzer-beta/api\")\n",
    "    demo.setConfig(\"watson.tone.password\",\"password\")\n",
    "    demo.setConfig(\"watson.tone.username\",\"username\")"
master
   ]
  },
  {
   "cell_type": "code",
   "execution_count": 3,
   "metadata": {
    "collapsed": false
   },
   "outputs": [
    {
     "name": "stdout",
     "output_type": "stream",
     "text": [
      "Twitter stream started\n",
      "Tweets are collected real-time and analyzed\n",
      "To stop the streaming and start interacting with the data use: StreamingTwitter.stopTwitterStreaming\n",
      "Stopping Twitter stream. Please wait this may take a while\n",
      "Twitter stream stopped\n",
      "You can now create a sqlContext and DataFrame with 2846 Tweets created. Sample usage: \n",
      "val (sqlContext, df) = com.ibm.cds.spark.samples.StreamingTwitter.createTwitterDataFrames(sc)\n",
      "df.printSchema\n",
      "sqlContext.sql(\"select author, text from tweets\").show\n"
     ]
    }
   ],
   "source": [
    "import org.apache.spark.streaming._\n",
    "demo.startTwitterStreaming(sc, Seconds(300))"
   ]
  },
  {
   "cell_type": "code",
   "execution_count": 4,
   "metadata": {
    "collapsed": false
   },
   "outputs": [
    {
     "name": "stdout",
     "output_type": "stream",
     "text": [
      "A new table named tweets with 2846 records has been correctly created and can be accessed through the SQLContext variable\n",
      "Here's the schema for tweets\n",
      "root\n",
      " |-- author: string (nullable = true)\n",
      " |-- date: string (nullable = true)\n",
      " |-- lang: string (nullable = true)\n",
      " |-- text: string (nullable = true)\n",
      " |-- lat: double (nullable = true)\n",
      " |-- long: double (nullable = true)\n",
      " |-- Cheerfulness: double (nullable = true)\n",
      " |-- Negative: double (nullable = true)\n",
      " |-- Anger: double (nullable = true)\n",
      " |-- Analytical: double (nullable = true)\n",
      " |-- Confident: double (nullable = true)\n",
      " |-- Tentative: double (nullable = true)\n",
      " |-- Openness: double (nullable = true)\n",
      " |-- Agreeableness: double (nullable = true)\n",
      " |-- Conscientiousness: double (nullable = true)\n",
      "\n"
     ]
    }
   ],
   "source": [
    "val (sqlContext, df) = demo.createTwitterDataFrames(sc)"
   ]
  },
  {
   "cell_type": "code",
   "execution_count": 5,
   "metadata": {
    "collapsed": false
   },
   "outputs": [
    {
     "name": "stdout",
     "output_type": "stream",
     "text": [
      "+--------------------+--------------------+----+--------------------+---+----+------------+--------+-----+----------+---------+---------+--------+-------------+-----------------+\n",
      "|              author|                date|lang|                text|lat|long|Cheerfulness|Negative|Anger|Analytical|Confident|Tentative|Openness|Agreeableness|Conscientiousness|\n",
      "+--------------------+--------------------+----+--------------------+---+----+------------+--------+-----+----------+---------+---------+--------+-------------+-----------------+\n",
      "|              Andrea|Thu May 05 23:59:...|  en|RT @DaCuban_: I a...|0.0| 0.0|         0.0|     0.0|  0.0|       0.0|      0.0|      0.0|     0.0|          0.0|              0.0|\n",
      "|              Ajonay|Thu May 05 23:59:...|  en|@HodgesTheGreat I...|0.0| 0.0|         0.0|     0.0|  0.0|       0.0|      0.0|      0.0|     0.0|          0.0|              0.0|\n",
      "|       Tamara Romero|Thu May 05 23:59:...|  en|Yeah, that had Ol...|0.0| 0.0|         0.0|     0.0|  0.0|       0.0|      0.0|      0.0|     0.0|          0.0|              0.0|\n",
      "|                 XYZ|Thu May 05 23:59:...|  en|@victorxdls nah, ...|0.0| 0.0|         0.0|     0.0|  0.0|       0.0|      0.0|      0.0|     0.0|          0.0|              0.0|\n",
      "|       Ms. d'Ombrain|Thu May 05 23:59:...|  en|when u highkey wa...|0.0| 0.0|         0.0|     0.0|  0.0|       0.0|      0.0|      0.0|     0.0|          0.0|              0.0|\n",
      "|Diosa Rivera Mendoza|Thu May 05 23:59:...|  en|RT @MaiChardGloba...|0.0| 0.0|         0.0|     0.0|  0.0|       0.0|      0.0|      0.0|     0.0|          0.0|              0.0|\n",
      "|                 zo?|Thu May 05 23:59:...|  en|RT @ThatBucketLis...|0.0| 0.0|         0.0|     0.0|  0.0|       0.0|      0.0|      0.0|     0.0|          0.0|              0.0|\n",
      "|    Mordecai #xotwod|Thu May 05 23:59:...|  en|I went bc they ga...|0.0| 0.0|         0.0|     0.0|  0.0|       0.0|      0.0|      0.0|     0.0|          0.0|              0.0|\n",
      "|             Vasudev|Thu May 05 23:59:...|  en|Then why & what M...|0.0| 0.0|         0.0|     0.0|  0.0|       0.0|      0.0|      0.0|     0.0|          0.0|              0.0|\n",
      "|               ellie|Thu May 05 23:59:...|  en|RT @idolinteractn...|0.0| 0.0|         0.0|     0.0|  0.0|       0.0|      0.0|      0.0|     0.0|          0.0|              0.0|\n",
      "|             ?Adira?|Thu May 05 23:59:...|  en|@Kaalateetham htt...|0.0| 0.0|         0.0|     0.0|  0.0|       0.0|      0.0|      0.0|     0.0|          0.0|              0.0|\n",
      "|        Howard Jones|Thu May 05 23:59:...|  en|RT @britainelects...|0.0| 0.0|         0.0|     0.0|  0.0|       0.0|      0.0|      0.0|     0.0|          0.0|              0.0|\n",
      "|          moodi madi|Thu May 05 23:59:...|  en|I gotta be in the...|0.0| 0.0|         0.0|     0.0|  0.0|       0.0|      0.0|      0.0|     0.0|          0.0|              0.0|\n",
      "|             NovhaAS|Thu May 05 23:59:...|  en|Aneka Acara Seru ...|0.0| 0.0|         0.0|     0.0|  0.0|       0.0|      0.0|      0.0|     0.0|          0.0|              0.0|\n",
      "|              Holden|Thu May 05 23:59:...|  en|           important|0.0| 0.0|         0.0|     0.0|  0.0|       0.0|      0.0|      0.0|     0.0|          0.0|              0.0|\n",
      "|      Julie Holloway|Thu May 05 23:59:...|  en|Deliberate #chang...|0.0| 0.0|         0.0|     0.0|  0.0|       0.0|      0.0|      0.0|     0.0|          0.0|              0.0|\n",
      "|             navarro|Thu May 05 23:59:...|  en|@opaleles vc eh m...|0.0| 0.0|         0.0|     0.0|  0.0|       0.0|      0.0|      0.0|     0.0|          0.0|              0.0|\n",
      "|             Noochie|Thu May 05 23:59:...|  en|                 Bet|0.0| 0.0|         0.0|     0.0|  0.0|       0.0|      0.0|      0.0|     0.0|          0.0|              0.0|\n",
      "|     Vania Kristanti|Thu May 05 23:59:...|  en|https://t.co/o3dh...|0.0| 0.0|         0.0|     0.0|  0.0|       0.0|      0.0|      0.0|     0.0|          0.0|              0.0|\n",
      "|                 meg|Thu May 05 23:59:...|  en|there will be a h...|0.0| 0.0|         0.0|     0.0|  0.0|       0.0|      0.0|      0.0|     0.0|          0.0|              0.0|\n",
      "+--------------------+--------------------+----+--------------------+---+----+------------+--------+-----+----------+---------+---------+--------+-------------+-----------------+\n",
      "only showing top 20 rows\n",
      "\n"
     ]
    }
   ],
   "source": [
    "val fullSet = sqlContext.sql(\"select * from tweets limit 100000\")  //Select all columns\n",
    "fullSet.show"
   ]
  },
  {
   "cell_type": "code",
   "execution_count": 6,
   "metadata": {
    "collapsed": false
   },
   "outputs": [
    {
     "name": "stdout",
     "output_type": "stream",
     "text": [
      "+----+\n",
      "| _c0|\n",
      "+----+\n",
      "|2846|\n",
      "+----+\n",
      "\n"
     ]
    }
   ],
   "source": [
    "val fullSet2 = sqlContext.sql(\"select count(*) from tweets\")  //count total data\n",
    "fullSet2.show"
   ]
  },
  {
   "cell_type": "code",
   "execution_count": 8,
   "metadata": {
    "collapsed": false
   },
   "outputs": [
    {
     "name": "stdout",
     "output_type": "stream",
     "text": [
      "SLF4J: Failed to load class \"org.slf4j.impl.StaticLoggerBinder\".\n",
      "SLF4J: Defaulting to no-operation (NOP) logger implementation\n",
      "SLF4J: See http://www.slf4j.org/codes.html#StaticLoggerBinder for further details.\n"
     ]
    }
   ],
   "source": [
    "fullSet.repartition(1).saveAsParquetFile(\"swift://notebooks.spark/tweetsFull2.parquet\")"
   ]
  },
  {
   "cell_type": "code",
   "execution_count": null,
   "metadata": {
    "collapsed": false
   },
   "outputs": [
    {
     "name": "stdout",
     "output_type": "stream",
     "text": [
      "0\n"
     ]
    }
   ],
   "source": [
    "val angerSet = sqlContext.sql(\"select author, text, Anger from tweets where Anger > 0\")\n",
    "\n",
    "println(angerSet.count)\n",
    "angerSet.show"
   ]
  },
  {
   "cell_type": "code",
   "execution_count": null,
   "metadata": {
    "collapsed": true
   },
   "outputs": [],
   "source": []
  }
 ],
 "metadata": {
  "kernelspec": {
   "display_name": "Scala 2.10",
   "language": "scala",
   "name": "spark"
  },
  "language_info": {
   "name": "scala"
  }
 },
 "nbformat": 4,
 "nbformat_minor": 0

